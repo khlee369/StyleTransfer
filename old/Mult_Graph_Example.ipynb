{
 "cells": [
  {
   "cell_type": "code",
   "execution_count": 1,
   "metadata": {
    "collapsed": true,
    "deletable": true,
    "editable": true
   },
   "outputs": [],
   "source": [
    "import os\n",
    "import numpy as np\n",
    "import tensorflow as tf\n",
    "import matplotlib.pyplot as plt\n",
    "from six.moves import cPickle\n",
    "from tensorflow.examples.tutorials.mnist import input_data\n",
    "from tensorflow.contrib.layers import xavier_initializer\n",
    "import shutil\n",
    "% matplotlib inline"
   ]
  },
  {
   "cell_type": "code",
   "execution_count": 6,
   "metadata": {
    "collapsed": true,
    "deletable": true,
    "editable": true
   },
   "outputs": [],
   "source": [
    "os.environ[\"CUDA_DEVICE_ORDER\"] = \"PCI_BUS_ID\"\n",
    "os.environ[\"CUDA_VISIBLE_DEVICES\"] = '0'"
   ]
  },
  {
   "cell_type": "code",
   "execution_count": 10,
   "metadata": {
    "collapsed": false,
    "deletable": true,
    "editable": true
   },
   "outputs": [
    {
     "name": "stdout",
     "output_type": "stream",
     "text": [
      "Tensor(\"g1/product:0\", shape=(1, 1), dtype=float64)\n",
      "Tensor(\"g2/product:0\", shape=(1, 1), dtype=float64)\n",
      "[[ 4.  4.]]\n",
      "[[ 1.  1.]]\n"
     ]
    }
   ],
   "source": [
    "g1 = tf.Graph()\n",
    "with g1.as_default() as g:\n",
    "    with g.name_scope('g1') as g2_scope:\n",
    "        matrix1 = tf.constant(np.array([[4., 4.]]), name = 'matrix1')\n",
    "        matrix2 = tf.constant(np.array([[5.],[5.]]))\n",
    "        product1 = tf.matmul(matrix1, matrix2, name = 'product')\n",
    "            \n",
    "tf.reset_default_graph()\n",
    "\n",
    "g2 = tf.Graph()\n",
    "with g2.as_default() as g:\n",
    "    with g.name_scope('g2') as g2_scope:\n",
    "        matrix1 = tf.constant(np.array([[1., 1.]]), name = 'matrix1')\n",
    "        matrix2 = tf.constant(np.array([[2.],[2.]]))\n",
    "        product2 = tf.matmul(matrix1, matrix2, name = 'product')\n",
    "\n",
    "tf.reset_default_graph()        \n",
    "        \n",
    "with tf.Session(graph = g1, config=tf.ConfigProto(allow_soft_placement=True)) as sess:\n",
    "    init = tf.global_variables_initializer()\n",
    "    sess.run(init)\n",
    "    print(product1)\n",
    "    result1 = sess.run('g1/matrix1:0')\n",
    "    \n",
    "with tf.Session(graph = g2, config=tf.ConfigProto(allow_soft_placement=True)) as sess:\n",
    "    init = tf.global_variables_initializer()\n",
    "    sess.run(init)\n",
    "    print(product2)\n",
    "    result2 = sess.run('g2/matrix1:0')\n",
    "print(result1)\n",
    "print(result2)"
   ]
  },
  {
   "cell_type": "code",
   "execution_count": null,
   "metadata": {
    "collapsed": true,
    "deletable": true,
    "editable": true
   },
   "outputs": [],
   "source": []
  }
 ],
 "metadata": {
  "kernelspec": {
   "display_name": "Python 3",
   "language": "python",
   "name": "python3"
  },
  "language_info": {
   "codemirror_mode": {
    "name": "ipython",
    "version": 3
   },
   "file_extension": ".py",
   "mimetype": "text/x-python",
   "name": "python",
   "nbconvert_exporter": "python",
   "pygments_lexer": "ipython3",
   "version": "3.4.0"
  }
 },
 "nbformat": 4,
 "nbformat_minor": 2
}
